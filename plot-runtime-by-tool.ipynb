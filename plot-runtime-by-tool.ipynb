{
 "cells": [
  {
   "cell_type": "code",
   "execution_count": 9,
   "metadata": {
    "collapsed": false
   },
   "outputs": [],
   "source": [
    "import pandas as pd\n",
    "import numpy as np\n",
    "import matplotlib.pyplot as plt\n",
    "from pandas.io import sql\n",
    "import sqlite3\n",
    "import h5py"
   ]
  },
  {
   "cell_type": "code",
   "execution_count": 2,
   "metadata": {
    "collapsed": true
   },
   "outputs": [],
   "source": [
    "try:\n",
    "    conn = sqlite3.connect('/home/u/abc/galaxy/database/universe.sqlite')\n",
    "except:\n",
    "    print \"\"\"please enter where database is located.\n",
    "    Hint: locate database/universe.sqlite returns:\"\"\"\n",
    "    !locate database/universe.sqlite"
   ]
  },
  {
   "cell_type": "code",
   "execution_count": 3,
   "metadata": {
    "collapsed": false
   },
   "outputs": [],
   "source": [
    "query = '''\n",
    "    SELECT job.tool_id, job.id, job_metric_numeric.job_id, metric_value AS runtime_seconds\n",
    "    FROM job_metric_numeric INNER JOIN job\n",
    "    WHERE metric_name=\\'runtime_seconds\\' AND job.id=job_metric_numeric.job_id\n",
    "'''\n",
    "tools_runtime = sql.read_sql(query,con=conn)"
   ]
  },
  {
   "cell_type": "code",
   "execution_count": 4,
   "metadata": {
    "collapsed": false
   },
   "outputs": [],
   "source": [
    "runtime_dict = {}\n",
    "for index, tool in enumerate(tools_runtime['tool_id']):\n",
    "    try:\n",
    "        runtime_dict[str(tool)]\n",
    "    except:\n",
    "        runtime_dict[tool] = []\n",
    "    runtime_dict[tool].append(tools_runtime.runtime_seconds[index])"
   ]
  },
  {
   "cell_type": "code",
   "execution_count": 5,
   "metadata": {
    "collapsed": true
   },
   "outputs": [],
   "source": [
    "for tool in runtime_dict.keys():\n",
    "    plt.plot(range(0, len(runtime_dict[tool])), runtime_dict[tool], label=tool)\n",
    "    plt.savefig(tool + '-runtime.png')\n",
    "    plt.close()"
   ]
  },
  {
   "cell_type": "code",
   "execution_count": 13,
   "metadata": {
    "collapsed": false
   },
   "outputs": [],
   "source": [
    "hdf = pd.HDFStore('storage.h5')"
   ]
  },
  {
   "cell_type": "code",
   "execution_count": 20,
   "metadata": {
    "collapsed": false
   },
   "outputs": [],
   "source": [
    "hdf.put('runtime_by_tool', tools_runtime)"
   ]
  },
  {
   "cell_type": "code",
   "execution_count": 21,
   "metadata": {
    "collapsed": false
   },
   "outputs": [],
   "source": [
    "hdf.close()"
   ]
  },
  {
   "cell_type": "code",
   "execution_count": null,
   "metadata": {
    "collapsed": true
   },
   "outputs": [],
   "source": []
  },
  {
   "cell_type": "code",
   "execution_count": null,
   "metadata": {
    "collapsed": true
   },
   "outputs": [],
   "source": []
  }
 ],
 "metadata": {
  "kernelspec": {
   "display_name": "Python 2",
   "language": "python",
   "name": "python2"
  },
  "language_info": {
   "codemirror_mode": {
    "name": "ipython",
    "version": 2
   },
   "file_extension": ".py",
   "mimetype": "text/x-python",
   "name": "python",
   "nbconvert_exporter": "python",
   "pygments_lexer": "ipython2",
   "version": "2.7.10"
  }
 },
 "nbformat": 4,
 "nbformat_minor": 0
}
