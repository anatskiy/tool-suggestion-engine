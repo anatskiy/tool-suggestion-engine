{
 "cells": [
  {
   "cell_type": "code",
   "execution_count": 1,
   "metadata": {
    "collapsed": true
   },
   "outputs": [],
   "source": [
    "# coding: utf-8"
   ]
  },
  {
   "cell_type": "code",
   "execution_count": 7,
   "metadata": {
    "collapsed": false
   },
   "outputs": [],
   "source": [
    "import pandas as pd\n",
    "import sqlite3\n",
    "import re"
   ]
  },
  {
   "cell_type": "code",
   "execution_count": 2,
   "metadata": {
    "collapsed": false
   },
   "outputs": [
    {
     "name": "stdout",
     "output_type": "stream",
     "text": [
      "/home/u/abc/galaxy\n"
     ]
    }
   ],
   "source": [
    "cd ../galaxy"
   ]
  },
  {
   "cell_type": "code",
   "execution_count": 3,
   "metadata": {
    "collapsed": false
   },
   "outputs": [],
   "source": [
    "with open('./config/galaxy.ini') as file:\n",
    "    # default\n",
    "    db_path = 'database/universe.sqlite'\n",
    "\n",
    "    # if different value in config file\n",
    "    for line in file:\n",
    "        if re.match('^database_connection\\ =.*', line):\n",
    "            db_path = re.sub('database_connection\\ = sqlite:///./', '', line)\n",
    "            # without the index the string finishes with a space\n",
    "            db_path = re.sub('\\?.*', '', db_path)[:-1]"
   ]
  },
  {
   "cell_type": "code",
   "execution_count": 4,
   "metadata": {
    "collapsed": false
   },
   "outputs": [],
   "source": [
    "conn = sqlite3.connect(db_path)"
   ]
  },
  {
   "cell_type": "code",
   "execution_count": 5,
   "metadata": {
    "collapsed": false
   },
   "outputs": [],
   "source": [
    "download_history_query = \"\"\"\n",
    "SELECT * FROM history\n",
    "\"\"\"\n",
    "\n",
    "download_workflows_steps_query = \"\"\"\n",
    "SELECT * FROM workflow_steps\n",
    "\"\"\"\n",
    "\n",
    "download_workflows_steps_connections_query = \"\"\"\n",
    "SELECT * workflow_steps_connections\n",
    "\"\"\"\n",
    "\n",
    "histo = pd.read_sql(download_history_query, con=conn)\n",
    "w_steps = pd.read_sql(download_workflows_steps_query, con=conn)\n",
    "w_steps_connexions = pd.read_sql(download_workflows_steps_connections_query, con=conn)"
   ]
  },
  {
   "cell_type": "code",
   "execution_count": 6,
   "metadata": {
    "collapsed": true
   },
   "outputs": [],
   "source": [
    "histo.to_csv('histories.csv')\n",
    "w_steps.to_csv('workflow_steps.csv')\n",
    "w_steps_connexions.to_csv('workflow_steps_connexions.csv')"
   ]
  },
  {
   "cell_type": "code",
   "execution_count": null,
   "metadata": {
    "collapsed": true
   },
   "outputs": [],
   "source": []
  }
 ],
 "metadata": {
  "anaconda-cloud": {},
  "kernelspec": {
   "display_name": "Python [default]",
   "language": "python",
   "name": "python2"
  },
  "language_info": {
   "codemirror_mode": {
    "name": "ipython",
    "version": 2
   },
   "file_extension": ".py",
   "mimetype": "text/x-python",
   "name": "python",
   "nbconvert_exporter": "python",
   "pygments_lexer": "ipython2",
   "version": "2.7.12"
  }
 },
 "nbformat": 4,
 "nbformat_minor": 1
}
