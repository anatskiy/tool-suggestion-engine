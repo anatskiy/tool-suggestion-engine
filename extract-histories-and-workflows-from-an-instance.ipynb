{
 "cells": [
  {
   "cell_type": "code",
   "execution_count": 42,
   "metadata": {
    "collapsed": true
   },
   "outputs": [],
   "source": [
    "import os\n",
    "import re\n",
    "\n",
    "from configparser import ConfigParser, NoOptionError\n",
    "from sqlalchemy import create_engine\n",
    "import pandas as pd"
   ]
  },
  {
   "cell_type": "code",
   "execution_count": 43,
   "metadata": {
    "collapsed": true
   },
   "outputs": [],
   "source": [
    "galaxy_path = os.environ['GALAXY_DIRECTORY']\n",
    "config_file = os.path.join(galaxy_path, 'config/galaxy.ini.sample')\n",
    "db_path = ''\n",
    "\n",
    "if os.path.isfile(config_file):\n",
    "    config = ConfigParser()\n",
    "    config.read_file(open(config_file))\n",
    "    \n",
    "    try:\n",
    "        # Get database path\n",
    "        database_connection = config.get('app:main', 'database_connection')\n",
    "        match = re.match(r'(.+:\\/{2,3})(.+)\\?', database_connection)\n",
    "        protocol = match[1]\n",
    "        file = os.path.join(galaxy_path, match[2])        \n",
    "        db_path = protocol + file if os.path.isfile(file) else database_connection\n",
    "            \n",
    "    except NoOptionError:\n",
    "        # Default\n",
    "        db_path = 'sqlite:///' + os.path.join(galaxy_path, 'database/universe.sqlite')"
   ]
  },
  {
   "cell_type": "code",
   "execution_count": 44,
   "metadata": {
    "collapsed": true
   },
   "outputs": [],
   "source": [
    "# Connect to DB\n",
    "engine = create_engine(db_path)\n",
    "\n",
    "history_query = \"\"\"\n",
    "SELECT * FROM history\n",
    "\"\"\"\n",
    "\n",
    "workflows_steps_query = \"\"\"\n",
    "SELECT * FROM workflow_step\n",
    "\"\"\"\n",
    "\n",
    "workflows_steps_connections_query = \"\"\"\n",
    "SELECT * FROM workflow_step_connection\n",
    "\"\"\"\n",
    "\n",
    "histories = pd.read_sql(history_query, con=engine)\n",
    "w_steps = pd.read_sql(workflows_steps_query, con=engine)\n",
    "w_steps_connections = pd.read_sql(workflows_steps_connections_query, con=engine)\n",
    "\n",
    "histories.to_csv('histories.csv')\n",
    "w_steps.to_csv('workflow_steps.csv')\n",
    "w_steps_connections.to_csv('workflow_steps_connections.csv')"
   ]
  },
  {
   "cell_type": "code",
   "execution_count": null,
   "metadata": {
    "collapsed": true
   },
   "outputs": [],
   "source": []
  }
 ],
 "metadata": {
  "anaconda-cloud": {},
  "kernelspec": {
   "display_name": "Python 3",
   "language": "python",
   "name": "python3"
  },
  "language_info": {
   "codemirror_mode": {
    "name": "ipython",
    "version": 3
   },
   "file_extension": ".py",
   "mimetype": "text/x-python",
   "name": "python",
   "nbconvert_exporter": "python",
   "pygments_lexer": "ipython3",
   "version": "3.6.1"
  }
 },
 "nbformat": 4,
 "nbformat_minor": 1
}
