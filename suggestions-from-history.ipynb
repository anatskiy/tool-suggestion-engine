{
 "cells": [
  {
   "cell_type": "code",
   "execution_count": 112,
   "metadata": {
    "collapsed": true
   },
   "outputs": [],
   "source": [
    "import os\n",
    "import re\n",
    "\n",
    "from configparser import ConfigParser, NoOptionError\n",
    "from sqlalchemy import create_engine\n",
    "import numpy as np\n",
    "import pandas as pd\n",
    "\n",
    "from bioblend.galaxy import GalaxyInstance\n",
    "# from bioblend.galaxy.histories import HistoryClient\n",
    "# from bioblend.galaxy.workflows import WorkflowClient\n",
    "from bioblend.galaxy.tools import ToolClient"
   ]
  },
  {
   "cell_type": "code",
   "execution_count": 18,
   "metadata": {
    "collapsed": true
   },
   "outputs": [],
   "source": [
    "galaxy_url = 'http://127.0.0.1:8080'\n",
    "api_key = os.getenv('GALAXY_API_KEY')\n",
    "gi = GalaxyInstance(url=galaxy_url, key=api_key)"
   ]
  },
  {
   "cell_type": "markdown",
   "metadata": {},
   "source": [
    "### Connect to the database"
   ]
  },
  {
   "cell_type": "code",
   "execution_count": 3,
   "metadata": {
    "collapsed": true
   },
   "outputs": [],
   "source": [
    "galaxy_path = os.getenv('GALAXY_DIRECTORY')\n",
    "config_file = os.path.join(galaxy_path, 'config/galaxy.ini.sample')\n",
    "db_path = ''\n",
    "\n",
    "if os.path.isfile(config_file):\n",
    "    config = ConfigParser()\n",
    "    config.read_file(open(config_file))\n",
    "    \n",
    "    try:\n",
    "        # Get database path     \n",
    "        db_path = config.get('app:main', 'database_connection')\n",
    "#         db_path = 'postgresql://galaxy@localhost:5432/galaxy'  # temporary\n",
    "            \n",
    "    except NoOptionError:\n",
    "        # Default\n",
    "        db_path = 'sqlite:///' + os.path.join(galaxy_path, 'database/universe.sqlite')\n",
    "\n",
    "engine = create_engine(db_path)"
   ]
  },
  {
   "cell_type": "code",
   "execution_count": null,
   "metadata": {},
   "outputs": [],
   "source": [
    "# wc = WorkflowClient(gi)\n",
    "# wc.get_workflows()"
   ]
  },
  {
   "cell_type": "code",
   "execution_count": null,
   "metadata": {},
   "outputs": [],
   "source": [
    "# hc = HistoryClient(gi)\n",
    "# hc.get_histories()"
   ]
  },
  {
   "cell_type": "markdown",
   "metadata": {},
   "source": [
    "## Connections"
   ]
  },
  {
   "cell_type": "code",
   "execution_count": 204,
   "metadata": {
    "scrolled": true
   },
   "outputs": [
    {
     "data": {
      "text/html": [
       "<div>\n",
       "<style>\n",
       "    .dataframe thead tr:only-child th {\n",
       "        text-align: right;\n",
       "    }\n",
       "\n",
       "    .dataframe thead th {\n",
       "        text-align: left;\n",
       "    }\n",
       "\n",
       "    .dataframe tbody tr th {\n",
       "        vertical-align: top;\n",
       "    }\n",
       "</style>\n",
       "<table border=\"1\" class=\"dataframe\">\n",
       "  <thead>\n",
       "    <tr style=\"text-align: right;\">\n",
       "      <th></th>\n",
       "      <th>id</th>\n",
       "      <th>workflow_id</th>\n",
       "      <th>tool_id</th>\n",
       "      <th>tool_version</th>\n",
       "      <th>label</th>\n",
       "      <th>annotation</th>\n",
       "      <th>in_port</th>\n",
       "      <th>out_port</th>\n",
       "    </tr>\n",
       "  </thead>\n",
       "  <tbody>\n",
       "    <tr>\n",
       "      <th>0</th>\n",
       "      <td>18</td>\n",
       "      <td>6</td>\n",
       "      <td>Cut1</td>\n",
       "      <td>1.0.2</td>\n",
       "      <td>cut 1</td>\n",
       "      <td>cut 1 annot</td>\n",
       "      <td>18</td>\n",
       "      <td>20</td>\n",
       "    </tr>\n",
       "    <tr>\n",
       "      <th>1</th>\n",
       "      <td>19</td>\n",
       "      <td>6</td>\n",
       "      <td>Cut1</td>\n",
       "      <td>1.0.2</td>\n",
       "      <td>cut 2</td>\n",
       "      <td>cut 2 annot</td>\n",
       "      <td>19</td>\n",
       "      <td>20</td>\n",
       "    </tr>\n",
       "    <tr>\n",
       "      <th>2</th>\n",
       "      <td>20</td>\n",
       "      <td>6</td>\n",
       "      <td>cat1</td>\n",
       "      <td>1.0.0</td>\n",
       "      <td>output</td>\n",
       "      <td>output annot</td>\n",
       "      <td>0</td>\n",
       "      <td>0</td>\n",
       "    </tr>\n",
       "  </tbody>\n",
       "</table>\n",
       "</div>"
      ],
      "text/plain": [
       "   id  workflow_id tool_id tool_version   label    annotation  in_port  \\\n",
       "0  18            6    Cut1        1.0.2   cut 1   cut 1 annot       18   \n",
       "1  19            6    Cut1        1.0.2   cut 2   cut 2 annot       19   \n",
       "2  20            6    cat1        1.0.0  output  output annot        0   \n",
       "\n",
       "   out_port  \n",
       "0        20  \n",
       "1        20  \n",
       "2         0  "
      ]
     },
     "execution_count": 204,
     "metadata": {},
     "output_type": "execute_result"
    }
   ],
   "source": [
    "query_get_connections = '''\n",
    "SELECT DISTINCT ws.id, ws.workflow_id, ws.tool_id,\n",
    "    ws.tool_version, ws.label, wsa.annotation,\n",
    "    wsc.output_step_id AS in_port, wsc.input_step_id AS out_port\n",
    "\n",
    "FROM workflow_step as ws, stored_workflow as sw\n",
    "\n",
    "LEFT JOIN workflow_step_connection AS wsc\n",
    "    ON ws.id = wsc.output_step_id\n",
    "\n",
    "LEFT JOIN workflow_step_annotation_association as wsa\n",
    "    ON ws.id = wsa.workflow_step_id\n",
    "\n",
    "WHERE ws.workflow_id = sw.latest_workflow_id AND ws.type != 'data_input'\n",
    "'''\n",
    "connections = pd.read_sql(query_get_connections, con=engine)\n",
    "connections[['in_port', 'out_port']] = connections[['in_port', 'out_port']].fillna(0.0).applymap(np.int64)\n",
    "\n",
    "# def get_tool_ids(port):\n",
    "#     for port_id in connections[port]:\n",
    "#         tool_id = connections.tool_id[connections.id == port_id]\n",
    "#         yield tool_id.values[0] if not tool_id.empty else None\n",
    "\n",
    "# in_port_ids = pd.Series(list(get_tool_ids('in_port')), name='in_port_tool')\n",
    "# out_port_ids = pd.Series(list(get_tool_ids('out_port')), name='out_port_tool')\n",
    "# connections = pd.concat([connections, in_port_ids, out_port_ids], axis=1)\n",
    "# connections = connections[(connections.in_port != 0) & (connections.out_port != 0)]\n",
    "\n",
    "connections"
   ]
  },
  {
   "cell_type": "markdown",
   "metadata": {},
   "source": [
    "## Tool information"
   ]
  },
  {
   "cell_type": "code",
   "execution_count": 201,
   "metadata": {},
   "outputs": [
    {
     "data": {
      "text/html": [
       "<div>\n",
       "<style>\n",
       "    .dataframe thead tr:only-child th {\n",
       "        text-align: right;\n",
       "    }\n",
       "\n",
       "    .dataframe thead th {\n",
       "        text-align: left;\n",
       "    }\n",
       "\n",
       "    .dataframe tbody tr th {\n",
       "        vertical-align: top;\n",
       "    }\n",
       "</style>\n",
       "<table border=\"1\" class=\"dataframe\">\n",
       "  <thead>\n",
       "    <tr style=\"text-align: right;\">\n",
       "      <th></th>\n",
       "      <th>description</th>\n",
       "      <th>edam_operations</th>\n",
       "      <th>edam_topics</th>\n",
       "      <th>form_style</th>\n",
       "      <th>id</th>\n",
       "      <th>labels</th>\n",
       "      <th>link</th>\n",
       "      <th>min_width</th>\n",
       "      <th>model_class</th>\n",
       "      <th>name</th>\n",
       "      <th>panel_section_id</th>\n",
       "      <th>panel_section_name</th>\n",
       "      <th>target</th>\n",
       "      <th>tool_shed_repository</th>\n",
       "      <th>version</th>\n",
       "    </tr>\n",
       "  </thead>\n",
       "  <tbody>\n",
       "    <tr>\n",
       "      <th>98</th>\n",
       "      <td>columns from a table</td>\n",
       "      <td>[]</td>\n",
       "      <td>[]</td>\n",
       "      <td>regular</td>\n",
       "      <td>Cut1</td>\n",
       "      <td>[]</td>\n",
       "      <td>/tool_runner?tool_id=Cut1</td>\n",
       "      <td>-1</td>\n",
       "      <td>Tool</td>\n",
       "      <td>Cut</td>\n",
       "      <td>textutil</td>\n",
       "      <td>Text Manipulation</td>\n",
       "      <td>galaxy_main</td>\n",
       "      <td>NaN</td>\n",
       "      <td>1.0.2</td>\n",
       "    </tr>\n",
       "    <tr>\n",
       "      <th>118</th>\n",
       "      <td>tail-to-head</td>\n",
       "      <td>[]</td>\n",
       "      <td>[]</td>\n",
       "      <td>regular</td>\n",
       "      <td>cat1</td>\n",
       "      <td>[]</td>\n",
       "      <td>/tool_runner?tool_id=cat1</td>\n",
       "      <td>-1</td>\n",
       "      <td>Tool</td>\n",
       "      <td>Concatenate datasets</td>\n",
       "      <td>textutil</td>\n",
       "      <td>Text Manipulation</td>\n",
       "      <td>galaxy_main</td>\n",
       "      <td>NaN</td>\n",
       "      <td>1.0.0</td>\n",
       "    </tr>\n",
       "  </tbody>\n",
       "</table>\n",
       "</div>"
      ],
      "text/plain": [
       "              description edam_operations edam_topics form_style    id labels  \\\n",
       "98   columns from a table              []          []    regular  Cut1     []   \n",
       "118          tail-to-head              []          []    regular  cat1     []   \n",
       "\n",
       "                          link min_width model_class                  name  \\\n",
       "98   /tool_runner?tool_id=Cut1        -1        Tool                   Cut   \n",
       "118  /tool_runner?tool_id=cat1        -1        Tool  Concatenate datasets   \n",
       "\n",
       "    panel_section_id panel_section_name       target tool_shed_repository  \\\n",
       "98          textutil  Text Manipulation  galaxy_main                  NaN   \n",
       "118         textutil  Text Manipulation  galaxy_main                  NaN   \n",
       "\n",
       "    version  \n",
       "98    1.0.2  \n",
       "118   1.0.0  "
      ]
     },
     "execution_count": 201,
     "metadata": {},
     "output_type": "execute_result"
    }
   ],
   "source": [
    "query_get_tools = '''\n",
    "SELECT DISTINCT ws.tool_id AS id, ws.tool_version AS version\n",
    "FROM workflow_step as ws, stored_workflow as sw\n",
    "WHERE ws.tool_id IS NOT NULL AND ws.workflow_id = sw.latest_workflow_id\n",
    "'''\n",
    "workflow_tools = pd.read_sql(query_get_tools, con=engine)\n",
    "workflow_tools['flag'] = 1\n",
    "\n",
    "tc = ToolClient(gi)\n",
    "all_tools = pd.DataFrame.from_dict(tc.get_tools())\n",
    "\n",
    "tools = pd.merge(all_tools, workflow_tools, on=['id', 'version'], how='left')\n",
    "tools = tools[pd.notnull(tools['flag'])].drop(['flag'], axis=1)\n",
    "\n",
    "tools"
   ]
  },
  {
   "cell_type": "code",
   "execution_count": 189,
   "metadata": {},
   "outputs": [
    {
     "data": {
      "text/plain": [
       "[{'description': 'KEGG Orthology Based Annotation System',\n",
       "  'edam_operations': [],\n",
       "  'edam_topics': [],\n",
       "  'form_style': 'regular',\n",
       "  'id': 'toolshed.g2.bx.psu.edu/repos/iuc/kobas/kobas_annotate/0.4',\n",
       "  'labels': [],\n",
       "  'link': '/tool_runner?tool_id=toolshed.g2.bx.psu.edu%2Frepos%2Fiuc%2Fkobas%2Fkobas_annotate%2F0.4',\n",
       "  'min_width': -1,\n",
       "  'model_class': 'Tool',\n",
       "  'name': 'KOBAS Annotate',\n",
       "  'panel_section_id': 'toolshed',\n",
       "  'panel_section_name': 'ToolShed',\n",
       "  'target': 'galaxy_main',\n",
       "  'tool_shed_repository': {'changeset_revision': '83b998fa34ea',\n",
       "   'name': 'kobas',\n",
       "   'owner': 'iuc',\n",
       "   'tool_shed': 'toolshed.g2.bx.psu.edu'},\n",
       "  'version': '0.4'}]"
      ]
     },
     "execution_count": 189,
     "metadata": {},
     "output_type": "execute_result"
    }
   ],
   "source": [
    "tc.get_tools(name='KOBAS Annotate')"
   ]
  },
  {
   "cell_type": "code",
   "execution_count": null,
   "metadata": {
    "collapsed": true
   },
   "outputs": [],
   "source": []
  }
 ],
 "metadata": {
  "anaconda-cloud": {},
  "kernelspec": {
   "display_name": "Python 3",
   "language": "python",
   "name": "python3"
  },
  "language_info": {
   "codemirror_mode": {
    "name": "ipython",
    "version": 3
   },
   "file_extension": ".py",
   "mimetype": "text/x-python",
   "name": "python",
   "nbconvert_exporter": "python",
   "pygments_lexer": "ipython3",
   "version": "3.6.1"
  }
 },
 "nbformat": 4,
 "nbformat_minor": 1
}
